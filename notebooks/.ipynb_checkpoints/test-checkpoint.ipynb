{
 "cells": [
  {
   "cell_type": "code",
   "execution_count": 99,
   "metadata": {},
   "outputs": [],
   "source": [
    "import pandas as pd"
   ]
  },
  {
   "cell_type": "code",
   "execution_count": 100,
   "metadata": {},
   "outputs": [],
   "source": [
    "import numpy as np"
   ]
  },
  {
   "cell_type": "code",
   "execution_count": 101,
   "metadata": {},
   "outputs": [],
   "source": [
    "b=pd.read_csv('Assignment1-data.csv')"
   ]
  },
  {
   "cell_type": "code",
   "execution_count": 102,
   "metadata": {},
   "outputs": [],
   "source": [
    "c=pd.DataFrame(b)"
   ]
  },
  {
   "cell_type": "code",
   "execution_count": 103,
   "metadata": {},
   "outputs": [
    {
     "data": {
      "text/html": [
       "<div>\n",
       "<style scoped>\n",
       "    .dataframe tbody tr th:only-of-type {\n",
       "        vertical-align: middle;\n",
       "    }\n",
       "\n",
       "    .dataframe tbody tr th {\n",
       "        vertical-align: top;\n",
       "    }\n",
       "\n",
       "    .dataframe thead th {\n",
       "        text-align: right;\n",
       "    }\n",
       "</style>\n",
       "<table border=\"1\" class=\"dataframe\">\n",
       "  <thead>\n",
       "    <tr style=\"text-align: right;\">\n",
       "      <th></th>\n",
       "      <th>Unnamed: 0</th>\n",
       "      <th>Open</th>\n",
       "      <th>High</th>\n",
       "      <th>Low</th>\n",
       "      <th>Close</th>\n",
       "    </tr>\n",
       "  </thead>\n",
       "  <tbody>\n",
       "    <tr>\n",
       "      <th>0</th>\n",
       "      <td>2017-09-01 10:00:00</td>\n",
       "      <td>3079</td>\n",
       "      <td>3079</td>\n",
       "      <td>3072</td>\n",
       "      <td>3074</td>\n",
       "    </tr>\n",
       "    <tr>\n",
       "      <th>1</th>\n",
       "      <td>2017-09-01 10:10:00</td>\n",
       "      <td>3074</td>\n",
       "      <td>3074</td>\n",
       "      <td>3073</td>\n",
       "      <td>3074</td>\n",
       "    </tr>\n",
       "    <tr>\n",
       "      <th>2</th>\n",
       "      <td>2017-09-01 10:20:00</td>\n",
       "      <td>3074</td>\n",
       "      <td>3074</td>\n",
       "      <td>3072</td>\n",
       "      <td>3072</td>\n",
       "    </tr>\n",
       "    <tr>\n",
       "      <th>3</th>\n",
       "      <td>2017-09-01 10:30:00</td>\n",
       "      <td>3072</td>\n",
       "      <td>3073</td>\n",
       "      <td>3072</td>\n",
       "      <td>3073</td>\n",
       "    </tr>\n",
       "    <tr>\n",
       "      <th>4</th>\n",
       "      <td>2017-09-01 10:40:00</td>\n",
       "      <td>3073</td>\n",
       "      <td>3074</td>\n",
       "      <td>3072</td>\n",
       "      <td>3072</td>\n",
       "    </tr>\n",
       "  </tbody>\n",
       "</table>\n",
       "</div>"
      ],
      "text/plain": [
       "            Unnamed: 0  Open  High   Low  Close\n",
       "0  2017-09-01 10:00:00  3079  3079  3072   3074\n",
       "1  2017-09-01 10:10:00  3074  3074  3073   3074\n",
       "2  2017-09-01 10:20:00  3074  3074  3072   3072\n",
       "3  2017-09-01 10:30:00  3072  3073  3072   3073\n",
       "4  2017-09-01 10:40:00  3073  3074  3072   3072"
      ]
     },
     "execution_count": 103,
     "metadata": {},
     "output_type": "execute_result"
    }
   ],
   "source": [
    "c.head()"
   ]
  },
  {
   "cell_type": "markdown",
   "metadata": {},
   "source": [
    "TR"
   ]
  },
  {
   "cell_type": "code",
   "execution_count": 104,
   "metadata": {},
   "outputs": [],
   "source": [
    "a=c['High'].values.tolist()\n",
    "d=c['Low'].values.tolist()\n",
    "e=[]\n",
    "for i in range(1,len(a)):\n",
    "    e.append(a[i]-d[i])\n",
    "test2=a[1:]\n",
    "test3=c['Close'].values.tolist()\n",
    "f=[]\n",
    "for i in range(0,len(test2)):\n",
    "    f.append(abs(test2[i]-test3[i]))\n",
    "g=[]\n",
    "test4=d[1:]\n",
    "for i in range(0,len(test4)):\n",
    "    g.append(abs(test4[i]-test3[i]))\n",
    "tr=[]\n",
    "for i in range(len(e)):\n",
    "    tr.append(max(e[i],f[i],g[i]))\n",
    "tr=[None] + tr\n",
    "c['TR']=tr"
   ]
  },
  {
   "cell_type": "markdown",
   "metadata": {},
   "source": [
    "+DM 1"
   ]
  },
  {
   "cell_type": "code",
   "execution_count": 105,
   "metadata": {},
   "outputs": [],
   "source": [
    "high=a[1:]\n",
    "low=d[1:]\n",
    "dm1=[]\n",
    "for i in range(0,len(high)):\n",
    "    if (high[i]-high[i-1])>(low[i-1]-low[i]):\n",
    "        dm1.append(max(high[i]-high[i-1],0))\n",
    "    else:\n",
    "        dm1.append(0)\n",
    "dm1=[None]+dm1        \n",
    "c['+DM 1']=dm1"
   ]
  },
  {
   "cell_type": "markdown",
   "metadata": {},
   "source": [
    "Result"
   ]
  },
  {
   "cell_type": "markdown",
   "metadata": {},
   "source": [
    "-DM 1"
   ]
  },
  {
   "cell_type": "code",
   "execution_count": 106,
   "metadata": {},
   "outputs": [],
   "source": [
    "nedm1=[]\n",
    "beg=0\n",
    "first=a\n",
    "last=d\n",
    "for i in range(1,len(low)):\n",
    "    if (low[i-1]-low[i])>(high[i]-high[i-1]):\n",
    "        nedm1.append(max(low[i-1]-low[i],0))\n",
    "    else:\n",
    "        nedm1.append(0)\n",
    "if (last[0]-last[1])>(first[1]-first[0]):\n",
    "    beg=max(last[0]-last[1],0)\n",
    "nedm1=[None,beg]+ nedm1        \n",
    "c['-DM 1']=nedm1"
   ]
  },
  {
   "cell_type": "markdown",
   "metadata": {},
   "source": [
    "TR14"
   ]
  },
  {
   "cell_type": "code",
   "execution_count": 107,
   "metadata": {},
   "outputs": [],
   "source": [
    "tr14=[]\n",
    "start=sum(tr[1:15])\n",
    "tr14=[None for x in range(14)]+[start]\n",
    "for i in range(15,len(tr)):\n",
    "    tr14.append(tr14[i-1]-(tr14[i-1]/14)+tr[i])\n",
    "c['TR14']=tr14"
   ]
  },
  {
   "cell_type": "markdown",
   "metadata": {},
   "source": [
    "+DM14"
   ]
  },
  {
   "cell_type": "code",
   "execution_count": 108,
   "metadata": {},
   "outputs": [],
   "source": [
    "dm14=[]\n",
    "start=sum(dm1[1:15])\n",
    "dm14=[None for x in range(14)]+[start]\n",
    "for i in range(15,len(dm1)):\n",
    "    dm14.append((dm14[i-1]-(dm14[i-1]/14)+dm1[i]))\n",
    "c['+DM14']=dm14"
   ]
  },
  {
   "cell_type": "markdown",
   "metadata": {},
   "source": [
    "-DM14"
   ]
  },
  {
   "cell_type": "code",
   "execution_count": 109,
   "metadata": {},
   "outputs": [],
   "source": [
    "nedm14=[]\n",
    "start=sum(nedm1[1:15])\n",
    "nedm14=[None for x in range(14)]+[start]\n",
    "for i in range(15,len(nedm1)):\n",
    "    nedm14.append((nedm14[i-1]-(nedm14[i-1]/14)+nedm1[i]))\n",
    "c['-DM14']=nedm14"
   ]
  },
  {
   "cell_type": "markdown",
   "metadata": {},
   "source": [
    "+DI14"
   ]
  },
  {
   "cell_type": "code",
   "execution_count": 110,
   "metadata": {},
   "outputs": [],
   "source": [
    "di14=[]\n",
    "di14=[None for x in range(14)]\n",
    "for i in range(14,len(dm14)):\n",
    "    di14.append(100*dm14[i]/tr14[i])\n",
    "c['+DI14']=di14"
   ]
  },
  {
   "cell_type": "markdown",
   "metadata": {},
   "source": [
    "-DI14"
   ]
  },
  {
   "cell_type": "code",
   "execution_count": 111,
   "metadata": {},
   "outputs": [],
   "source": [
    "nedi14=[]\n",
    "nedi14=[None for x in range(14)]\n",
    "for i in range(14,len(nedm14)):\n",
    "    nedi14.append(100*nedm14[i]/tr14[i])\n",
    "c['-DI14']=nedi14"
   ]
  },
  {
   "cell_type": "markdown",
   "metadata": {},
   "source": [
    "DI 14 Diff"
   ]
  },
  {
   "cell_type": "code",
   "execution_count": 148,
   "metadata": {},
   "outputs": [],
   "source": [
    "di14diff=[]\n",
    "di14diff=[None for x in range(14)]\n",
    "for i in range(14,len(di14)):\n",
    "    di14diff.append(abs(nedi14[i]-di14[i]))\n",
    "c['DI 14 Diff']=di14diff"
   ]
  },
  {
   "cell_type": "markdown",
   "metadata": {},
   "source": [
    "DI 14 Sum"
   ]
  },
  {
   "cell_type": "code",
   "execution_count": 119,
   "metadata": {},
   "outputs": [],
   "source": [
    "di14sum=[]\n",
    "di14sum=[None for x in range(14)]\n",
    "for i in range(14,len(di14)):\n",
    "    di14sum.append(nedi14[i]+di14[i])\n",
    "c['DI 14 Sum']=di14sum"
   ]
  },
  {
   "cell_type": "markdown",
   "metadata": {},
   "source": [
    "DX"
   ]
  },
  {
   "cell_type": "code",
   "execution_count": 149,
   "metadata": {},
   "outputs": [],
   "source": [
    "dx=[]\n",
    "dx=[None for x in range(14)]\n",
    "for i in range(14,len(di14diff)):\n",
    "    dx.append(100*di14diff[i]/di14sum[i])\n",
    "c['DX']=dx"
   ]
  },
  {
   "cell_type": "markdown",
   "metadata": {},
   "source": [
    "ADX"
   ]
  },
  {
   "cell_type": "code",
   "execution_count": 153,
   "metadata": {},
   "outputs": [],
   "source": [
    "from statistics import mean\n",
    "adx=[]\n",
    "adx_start=mean(dx[14:28])\n",
    "adx=[None for x in range(27)]+[adx_start]\n",
    "for i in range(28,len(dx)):\n",
    "    adx.append((adx[i-1]*13+dx[i])/14)\n",
    "c['ADX']=adx    "
   ]
  },
  {
   "cell_type": "code",
   "execution_count": 156,
   "metadata": {},
   "outputs": [
    {
     "data": {
      "text/html": [
       "<div>\n",
       "<style scoped>\n",
       "    .dataframe tbody tr th:only-of-type {\n",
       "        vertical-align: middle;\n",
       "    }\n",
       "\n",
       "    .dataframe tbody tr th {\n",
       "        vertical-align: top;\n",
       "    }\n",
       "\n",
       "    .dataframe thead th {\n",
       "        text-align: right;\n",
       "    }\n",
       "</style>\n",
       "<table border=\"1\" class=\"dataframe\">\n",
       "  <thead>\n",
       "    <tr style=\"text-align: right;\">\n",
       "      <th></th>\n",
       "      <th>Unnamed: 0</th>\n",
       "      <th>Open</th>\n",
       "      <th>High</th>\n",
       "      <th>Low</th>\n",
       "      <th>Close</th>\n",
       "      <th>TR</th>\n",
       "      <th>+DM 1</th>\n",
       "      <th>-DM 1</th>\n",
       "      <th>TR14</th>\n",
       "      <th>+DM14</th>\n",
       "      <th>-DM14</th>\n",
       "      <th>+DI14</th>\n",
       "      <th>-DI14</th>\n",
       "      <th>DI 14 Diff</th>\n",
       "      <th>DI 14 Sum</th>\n",
       "      <th>DX</th>\n",
       "      <th>ADX</th>\n",
       "    </tr>\n",
       "  </thead>\n",
       "  <tbody>\n",
       "    <tr>\n",
       "      <th>26</th>\n",
       "      <td>2017-09-01 14:20:00</td>\n",
       "      <td>3061</td>\n",
       "      <td>3064</td>\n",
       "      <td>3061</td>\n",
       "      <td>3063</td>\n",
       "      <td>3.0</td>\n",
       "      <td>0.0</td>\n",
       "      <td>0.0</td>\n",
       "      <td>34.921189</td>\n",
       "      <td>4.975731</td>\n",
       "      <td>10.824850</td>\n",
       "      <td>14.248458</td>\n",
       "      <td>30.997942</td>\n",
       "      <td>16.749484</td>\n",
       "      <td>45.246399</td>\n",
       "      <td>37.018380</td>\n",
       "      <td>NaN</td>\n",
       "    </tr>\n",
       "    <tr>\n",
       "      <th>27</th>\n",
       "      <td>2017-09-01 14:30:00</td>\n",
       "      <td>3063</td>\n",
       "      <td>3065</td>\n",
       "      <td>3063</td>\n",
       "      <td>3065</td>\n",
       "      <td>2.0</td>\n",
       "      <td>1.0</td>\n",
       "      <td>0.0</td>\n",
       "      <td>34.426818</td>\n",
       "      <td>5.620321</td>\n",
       "      <td>10.051646</td>\n",
       "      <td>16.325416</td>\n",
       "      <td>29.197140</td>\n",
       "      <td>12.871723</td>\n",
       "      <td>45.522556</td>\n",
       "      <td>28.275484</td>\n",
       "      <td>49.817016</td>\n",
       "    </tr>\n",
       "    <tr>\n",
       "      <th>28</th>\n",
       "      <td>2017-09-01 14:40:00</td>\n",
       "      <td>3065</td>\n",
       "      <td>3069</td>\n",
       "      <td>3065</td>\n",
       "      <td>3067</td>\n",
       "      <td>4.0</td>\n",
       "      <td>4.0</td>\n",
       "      <td>0.0</td>\n",
       "      <td>35.967760</td>\n",
       "      <td>9.218870</td>\n",
       "      <td>9.333671</td>\n",
       "      <td>25.630926</td>\n",
       "      <td>25.950105</td>\n",
       "      <td>0.319179</td>\n",
       "      <td>51.581031</td>\n",
       "      <td>0.618791</td>\n",
       "      <td>46.302857</td>\n",
       "    </tr>\n",
       "    <tr>\n",
       "      <th>29</th>\n",
       "      <td>2017-09-01 14:50:00</td>\n",
       "      <td>3067</td>\n",
       "      <td>3067</td>\n",
       "      <td>3062</td>\n",
       "      <td>3063</td>\n",
       "      <td>5.0</td>\n",
       "      <td>0.0</td>\n",
       "      <td>3.0</td>\n",
       "      <td>38.398634</td>\n",
       "      <td>8.560379</td>\n",
       "      <td>11.666981</td>\n",
       "      <td>22.293447</td>\n",
       "      <td>30.383843</td>\n",
       "      <td>8.090396</td>\n",
       "      <td>52.677290</td>\n",
       "      <td>15.358413</td>\n",
       "      <td>44.092540</td>\n",
       "    </tr>\n",
       "    <tr>\n",
       "      <th>30</th>\n",
       "      <td>2017-09-01 15:00:00</td>\n",
       "      <td>3063</td>\n",
       "      <td>3063</td>\n",
       "      <td>3059</td>\n",
       "      <td>3061</td>\n",
       "      <td>4.0</td>\n",
       "      <td>0.0</td>\n",
       "      <td>3.0</td>\n",
       "      <td>39.655874</td>\n",
       "      <td>7.948924</td>\n",
       "      <td>13.833625</td>\n",
       "      <td>20.044757</td>\n",
       "      <td>34.884176</td>\n",
       "      <td>14.839419</td>\n",
       "      <td>54.928932</td>\n",
       "      <td>27.015670</td>\n",
       "      <td>42.872763</td>\n",
       "    </tr>\n",
       "    <tr>\n",
       "      <th>31</th>\n",
       "      <td>2017-09-01 15:10:00</td>\n",
       "      <td>3061</td>\n",
       "      <td>3061</td>\n",
       "      <td>3059</td>\n",
       "      <td>3060</td>\n",
       "      <td>2.0</td>\n",
       "      <td>0.0</td>\n",
       "      <td>0.0</td>\n",
       "      <td>38.823312</td>\n",
       "      <td>7.381143</td>\n",
       "      <td>12.845509</td>\n",
       "      <td>19.012142</td>\n",
       "      <td>33.087102</td>\n",
       "      <td>14.074960</td>\n",
       "      <td>52.099244</td>\n",
       "      <td>27.015670</td>\n",
       "      <td>41.740114</td>\n",
       "    </tr>\n",
       "  </tbody>\n",
       "</table>\n",
       "</div>"
      ],
      "text/plain": [
       "             Unnamed: 0  Open  High   Low  Close   TR  +DM 1  -DM 1  \\\n",
       "26  2017-09-01 14:20:00  3061  3064  3061   3063  3.0    0.0    0.0   \n",
       "27  2017-09-01 14:30:00  3063  3065  3063   3065  2.0    1.0    0.0   \n",
       "28  2017-09-01 14:40:00  3065  3069  3065   3067  4.0    4.0    0.0   \n",
       "29  2017-09-01 14:50:00  3067  3067  3062   3063  5.0    0.0    3.0   \n",
       "30  2017-09-01 15:00:00  3063  3063  3059   3061  4.0    0.0    3.0   \n",
       "31  2017-09-01 15:10:00  3061  3061  3059   3060  2.0    0.0    0.0   \n",
       "\n",
       "         TR14     +DM14      -DM14      +DI14      -DI14  DI 14 Diff  \\\n",
       "26  34.921189  4.975731  10.824850  14.248458  30.997942   16.749484   \n",
       "27  34.426818  5.620321  10.051646  16.325416  29.197140   12.871723   \n",
       "28  35.967760  9.218870   9.333671  25.630926  25.950105    0.319179   \n",
       "29  38.398634  8.560379  11.666981  22.293447  30.383843    8.090396   \n",
       "30  39.655874  7.948924  13.833625  20.044757  34.884176   14.839419   \n",
       "31  38.823312  7.381143  12.845509  19.012142  33.087102   14.074960   \n",
       "\n",
       "    DI 14 Sum         DX        ADX  \n",
       "26  45.246399  37.018380        NaN  \n",
       "27  45.522556  28.275484  49.817016  \n",
       "28  51.581031   0.618791  46.302857  \n",
       "29  52.677290  15.358413  44.092540  \n",
       "30  54.928932  27.015670  42.872763  \n",
       "31  52.099244  27.015670  41.740114  "
      ]
     },
     "execution_count": 156,
     "metadata": {},
     "output_type": "execute_result"
    }
   ],
   "source": [
    "c[26:32]"
   ]
  },
  {
   "cell_type": "code",
   "execution_count": null,
   "metadata": {},
   "outputs": [],
   "source": []
  }
 ],
 "metadata": {
  "kernelspec": {
   "display_name": "Python 3",
   "language": "python",
   "name": "python3"
  },
  "language_info": {
   "codemirror_mode": {
    "name": "ipython",
    "version": 3
   },
   "file_extension": ".py",
   "mimetype": "text/x-python",
   "name": "python",
   "nbconvert_exporter": "python",
   "pygments_lexer": "ipython3",
   "version": "3.7.0"
  }
 },
 "nbformat": 4,
 "nbformat_minor": 2
}
